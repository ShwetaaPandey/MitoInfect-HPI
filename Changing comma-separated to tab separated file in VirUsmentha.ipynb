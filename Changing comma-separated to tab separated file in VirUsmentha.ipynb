{
 "cells": [
  {
   "cell_type": "code",
   "execution_count": 2,
   "id": "e496dd17",
   "metadata": {},
   "outputs": [],
   "source": [
    "import csv"
   ]
  },
  {
   "cell_type": "code",
   "execution_count": 3,
   "id": "f2e1f1f8",
   "metadata": {},
   "outputs": [],
   "source": [
    "#Define input and output file \n",
    "input_file = \"output_9606_virusmentha.txt\"   \n",
    "output_file = \"tab_output_9606_virusmentha.txt\" \n",
    "\n",
    "# Open the input file for reading and the output file for writing\n",
    "with open(input_file, \"r\") as infile, open(output_file, \"w\", newline='') as outfile:\n",
    "    \n",
    "    # Create a CSV reader object to read in the input file\n",
    "    reader = csv.reader(infile)\n",
    "    \n",
    "    # Create a tab-separated writer object to write to the output file\n",
    "    writer = csv.writer(outfile, delimiter=\"\\t\", lineterminator=\"\\n\")\n",
    "    \n",
    "    # Loop through each row in the input file, replace commas with tabs, and write to the output file\n",
    "    for row in reader:\n",
    "        new_row = [col.replace(\",\", \"\\t\") for col in row]\n",
    "        writer.writerow(new_row)\n"
   ]
  },
  {
   "cell_type": "code",
   "execution_count": null,
   "id": "fc884d09",
   "metadata": {},
   "outputs": [],
   "source": []
  }
 ],
 "metadata": {
  "kernelspec": {
   "display_name": "Python 3 (ipykernel)",
   "language": "python",
   "name": "python3"
  },
  "language_info": {
   "codemirror_mode": {
    "name": "ipython",
    "version": 3
   },
   "file_extension": ".py",
   "mimetype": "text/x-python",
   "name": "python",
   "nbconvert_exporter": "python",
   "pygments_lexer": "ipython3",
   "version": "3.8.10"
  }
 },
 "nbformat": 4,
 "nbformat_minor": 5
}
