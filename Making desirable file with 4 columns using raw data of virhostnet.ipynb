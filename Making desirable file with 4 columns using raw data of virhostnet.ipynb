{
 "cells": [
  {
   "cell_type": "code",
   "execution_count": 2,
   "id": "b3e4dde6",
   "metadata": {},
   "outputs": [],
   "source": [
    "import csv"
   ]
  },
  {
   "cell_type": "code",
   "execution_count": 4,
   "id": "49631c27",
   "metadata": {},
   "outputs": [],
   "source": [
    "#Defining input and output file \n",
    "input_file = \"modify_virhostnet_database.csv\"\n",
    "output_file = \"output_modify_virhostnet_database.txt\"\n",
    "\n",
    "# Number of columns needed in my output file with new fieldnames\n",
    "extract_column_indices = [1,3,11,12]\n",
    "new_headers = [\"Host_protein\", \"Pathogen_Protein\", \"Host_taxid\", \"Pathogen_taxid\"]\n",
    "\n",
    "# Open the input file for reading and output file for writing\n",
    "with open(input_file, \"r\") as f_input, open(output_file, \"w\") as f_output:\n",
    "    reader = csv.reader(f_input, delimiter=\"\\t\")\n",
    "    writer = csv.writer(f_output, delimiter=\"\\t\")\n",
    "\n",
    "    # Skip over existing headers\n",
    "\n",
    "    next(reader)\n",
    "\n",
    "    \n",
    "    \n",
    "    # Write new headers\n",
    "    writer.writerow(new_headers)\n",
    "    \n",
    "    # Iterate over rows and extract columns\n",
    "    for row in reader:\n",
    "        extracted_row = [row[i] for i in extract_column_indices]\n",
    "        \n",
    "        # Write row if it satisfies the filter condition\n",
    "        writer.writerow(extracted_row)"
   ]
  },
  {
   "cell_type": "code",
   "execution_count": null,
   "id": "cf22239e",
   "metadata": {},
   "outputs": [],
   "source": []
  }
 ],
 "metadata": {
  "kernelspec": {
   "display_name": "Python 3 (ipykernel)",
   "language": "python",
   "name": "python3"
  },
  "language_info": {
   "codemirror_mode": {
    "name": "ipython",
    "version": 3
   },
   "file_extension": ".py",
   "mimetype": "text/x-python",
   "name": "python",
   "nbconvert_exporter": "python",
   "pygments_lexer": "ipython3",
   "version": "3.8.10"
  }
 },
 "nbformat": 4,
 "nbformat_minor": 5
}
