{
 "cells": [
  {
   "cell_type": "code",
   "execution_count": 1,
   "id": "fbacdadc",
   "metadata": {},
   "outputs": [],
   "source": [
    "# read the mt-protein-uniprot.txt into a dictionary\n",
    "mapping = {}\n",
    "with open('mt-protein-uniprot.txt', 'r') as f1:\n",
    "    for line in f1:\n",
    "        key = line.strip()\n",
    "        mapping[key] = True\n",
    "\n",
    "# modify the tab_output_9606_virusmentha.tx  using the dictionary\n",
    "with open('tab_output_9606_virusmentha.txt', 'r') as f2, open('output_mt_tab_output_9606_virusmentha.txt.txt','w') as f_out:\n",
    "    for line in f2:\n",
    "        cols = line.strip().split('\\t')\n",
    "        # extract the first column and remove the additional word/sign\n",
    "        first_col = cols[0].split(' ')[0]\n",
    "        if first_col in mapping:\n",
    "            # write modified line to output file\n",
    "            f_out.write(first_col + '\\t' + '\\t'.join(cols[1:]) + '\\n')"
   ]
  },
  {
   "cell_type": "code",
   "execution_count": null,
   "id": "bd961b56",
   "metadata": {},
   "outputs": [],
   "source": []
  },
  {
   "cell_type": "code",
   "execution_count": null,
   "id": "a5548c61",
   "metadata": {},
   "outputs": [],
   "source": []
  },
  {
   "cell_type": "code",
   "execution_count": null,
   "id": "103740c8",
   "metadata": {},
   "outputs": [],
   "source": []
  }
 ],
 "metadata": {
  "kernelspec": {
   "display_name": "Python 3 (ipykernel)",
   "language": "python",
   "name": "python3"
  },
  "language_info": {
   "codemirror_mode": {
    "name": "ipython",
    "version": 3
   },
   "file_extension": ".py",
   "mimetype": "text/x-python",
   "name": "python",
   "nbconvert_exporter": "python",
   "pygments_lexer": "ipython3",
   "version": "3.8.10"
  }
 },
 "nbformat": 4,
 "nbformat_minor": 5
}
