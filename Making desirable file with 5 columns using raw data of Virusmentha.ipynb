{
 "cells": [
  {
   "cell_type": "code",
   "execution_count": 1,
   "id": "fb63075b",
   "metadata": {},
   "outputs": [],
   "source": [
    "import csv"
   ]
  },
  {
   "cell_type": "code",
   "execution_count": 3,
   "id": "9ddb0eb6",
   "metadata": {},
   "outputs": [],
   "source": [
    "##Defining input and output file \n",
    "filename = \"9606_virusmentha.txt\" \n",
    "output_file = \"output_9606_virusmentha.txt\" \n",
    "\n",
    "# Number of columns needed in my output file with new fieldnames\n",
    "#new_headers = [\"Host_protein\", \"Pathogen_Protein\", \"Host_taxid\", \"Pathogen_taxid\", \"Pathogen_category\"]\n",
    "columns = [0,4,2,6] \n",
    "headers = [\"Host_protein\", \"Pathogen_Protein\", \"Host_taxid\", \"Pathogen_taxid\"]\n",
    "\n",
    "## Open the input file for reading and output file for writing\n",
    "with open(filename, newline='') as csvfile:\n",
    "    reader = csv.reader(csvfile, delimiter=';', quotechar='\"')\n",
    "    header_row = next(reader)  # read the header row from the file\n",
    "    extracted_rows = []\n",
    "    for row in reader:\n",
    "        # extract the specified columns from the row\n",
    "        extracted_cols = [row[i] for i in columns]\n",
    "        extracted_rows.append(extracted_cols)\n",
    "    \n",
    "    # write the extracted rows to a new CSV file with the new headers\n",
    "    with open(output_file, \"w\", newline='') as outfile:\n",
    "        writer = csv.writer(outfile, delimiter=',', quotechar='\"', quoting=csv.QUOTE_MINIMAL)\n",
    "        writer.writerow(headers)\n",
    "        writer.writerows(extracted_rows)\n"
   ]
  },
  {
   "cell_type": "code",
   "execution_count": null,
   "id": "01f0c3b1",
   "metadata": {},
   "outputs": [],
   "source": []
  }
 ],
 "metadata": {
  "kernelspec": {
   "display_name": "Python 3 (ipykernel)",
   "language": "python",
   "name": "python3"
  },
  "language_info": {
   "codemirror_mode": {
    "name": "ipython",
    "version": 3
   },
   "file_extension": ".py",
   "mimetype": "text/x-python",
   "name": "python",
   "nbconvert_exporter": "python",
   "pygments_lexer": "ipython3",
   "version": "3.8.10"
  }
 },
 "nbformat": 4,
 "nbformat_minor": 5
}
